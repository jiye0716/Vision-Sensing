{
 "cells": [
  {
   "cell_type": "code",
   "execution_count": 1,
   "metadata": {},
   "outputs": [],
   "source": [
    "test = [ \n",
    "    {'Arizona': 'Phoenix', 'California': 'Sacramento', 'Hawaii': 'Honolulu'},\n",
    "    1000, \n",
    "    2000, \n",
    "    3000, \n",
    "    ['hat', 't-shirt', 'jeans', {'socks1': 'red', 'socks2': 'blue'}]]"
   ]
  },
  {
   "cell_type": "code",
   "execution_count": 15,
   "metadata": {},
   "outputs": [
    {
     "name": "stdout",
     "output_type": "stream",
     "text": [
      "2000\n",
      "{'Hawaii': 'Honolulu', 'California': 'Sacramento', 'Arizona': 'Phoenix'}\n",
      "['hat', 't-shirt', 'jeans', {'socks1': 'red', 'socks2': 'blue'}]\n",
      "Phoenix\n",
      "jeans\n",
      "blue\n"
     ]
    }
   ],
   "source": [
    "print(test[2])\n",
    "print(test[0])\n",
    "print(test[-1])\n",
    "print(test[0]['Arizona'])\n",
    "print(test[4][2])\n",
    "print(test[4][3]['socks2'])"
   ]
  },
  {
   "cell_type": "code",
   "execution_count": null,
   "metadata": {},
   "outputs": [],
   "source": []
  }
 ],
 "metadata": {
  "kernelspec": {
   "display_name": "Python 3.7.11 ('testAI')",
   "language": "python",
   "name": "python3"
  },
  "language_info": {
   "codemirror_mode": {
    "name": "ipython",
    "version": 3
   },
   "file_extension": ".py",
   "mimetype": "text/x-python",
   "name": "python",
   "nbconvert_exporter": "python",
   "pygments_lexer": "ipython3",
   "version": "3.7.11"
  },
  "orig_nbformat": 4,
  "vscode": {
   "interpreter": {
    "hash": "82a87e48d8ad47d54d8434aa198ab5f7e9ca4eddc7a6e80c14d429723cf302a1"
   }
  }
 },
 "nbformat": 4,
 "nbformat_minor": 2
}
