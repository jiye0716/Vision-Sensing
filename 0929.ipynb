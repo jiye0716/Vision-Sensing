{
 "cells": [
  {
   "cell_type": "code",
   "execution_count": 7,
   "metadata": {},
   "outputs": [
    {
     "name": "stdout",
     "output_type": "stream",
     "text": [
      "jahn\n",
      "36\n"
     ]
    }
   ],
   "source": [
    "class Person:\n",
    "    def __init__(self,name,age):\n",
    "        self.name =name\n",
    "        self.age  = age\n",
    "p1 = Person(\"jahn\",36)\n",
    "\n",
    "print(p1.name)\n",
    "print(p1.age)"
   ]
  },
  {
   "cell_type": "code",
   "execution_count": 6,
   "metadata": {},
   "outputs": [
    {
     "data": {
      "text/plain": [
       "<bound method Person.myfunc of <__main__.Person object at 0x000002EE91359978>>"
      ]
     },
     "execution_count": 6,
     "metadata": {},
     "output_type": "execute_result"
    }
   ],
   "source": [
    "class Person:\n",
    "    def __init__(self,name,age):\n",
    "        self.name =name\n",
    "        self.age  = age\n",
    "    \n",
    "    def myfunc(self):\n",
    "        print(\"Hello my name is \" + self.name)\n",
    "\n",
    "p1 = Person(\"jahn\",36)\n",
    "p1.myfunc"
   ]
  },
  {
   "cell_type": "code",
   "execution_count": 8,
   "metadata": {},
   "outputs": [
    {
     "ename": "IndentationError",
     "evalue": "unexpected indent (<ipython-input-8-e43cac6941aa>, line 9)",
     "output_type": "error",
     "traceback": [
      "\u001b[1;36m  File \u001b[1;32m\"<ipython-input-8-e43cac6941aa>\"\u001b[1;36m, line \u001b[1;32m9\u001b[0m\n\u001b[1;33m    print(myobjectx.variable)\u001b[0m\n\u001b[1;37m    ^\u001b[0m\n\u001b[1;31mIndentationError\u001b[0m\u001b[1;31m:\u001b[0m unexpected indent\n"
     ]
    }
   ],
   "source": [
    "class my_class:\n",
    "    variable = \"blah\"\n",
    "    def function(self):\n",
    "     print(\"This is message inside the class\")\n",
    "     \n",
    "myobjectx = MyClass()\n",
    "myobjecty = MyClass()\n",
    "myClass.variable = \"test\"  # act as a static member\n",
    " print(myobjectx.variable)\n",
    " print(myobjecty.variable)\n",
    " myobjecty.variable = \"yackity\" # transferred into a class member\n",
    " # Then print out both values\n",
    " print(myobjectx.variable)\n",
    " print(myobjecty.variable)"
   ]
  },
  {
   "cell_type": "code",
   "execution_count": 13,
   "metadata": {},
   "outputs": [
    {
     "name": "stdout",
     "output_type": "stream",
     "text": [
      "test\n",
      "test\n",
      "test\n",
      "yackity\n"
     ]
    }
   ],
   "source": [
    "class MyClass:\n",
    "    variable = \"blah\"\n",
    "    def function(self):\n",
    "     print(\"This is message inside the class\")\n",
    "\n",
    "MyClass.variable = \"test\"\n",
    "myobjectx = MyClass()\n",
    "myobjecty = MyClass()\n",
    "print(myobjectx.variable)\n",
    "print(myobjecty.variable)\n",
    "myobjectx = MyClass()\n",
    "myobjecty.variable = \"yackity\"\n",
    "print(myobjectx.variable)\n",
    "print(myobjecty.variable)"
   ]
  },
  {
   "cell_type": "code",
   "execution_count": null,
   "metadata": {},
   "outputs": [],
   "source": [
    " "
   ]
  }
 ],
 "metadata": {
  "kernelspec": {
   "display_name": "Python 3.6.6 64-bit",
   "language": "python",
   "name": "python3"
  },
  "language_info": {
   "codemirror_mode": {
    "name": "ipython",
    "version": 3
   },
   "file_extension": ".py",
   "mimetype": "text/x-python",
   "name": "python",
   "nbconvert_exporter": "python",
   "pygments_lexer": "ipython3",
   "version": "3.6.6"
  },
  "orig_nbformat": 4,
  "vscode": {
   "interpreter": {
    "hash": "622ab4dd4a06a6a9ffb3ee96b284939289c872517d899751c5b98f7537dccab1"
   }
  }
 },
 "nbformat": 4,
 "nbformat_minor": 2
}
